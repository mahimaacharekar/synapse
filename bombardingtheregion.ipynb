{
 "cells": [
  {
   "cell_type": "code",
   "execution_count": 17,
   "id": "b56c71ef-819f-4df8-ae70-4370d8de37aa",
   "metadata": {},
   "outputs": [
    {
     "name": "stdin",
     "output_type": "stream",
     "text": [
      "Enter the grid size 4\n"
     ]
    },
    {
     "name": "stdout",
     "output_type": "stream",
     "text": [
      "[1 0 0 1]\n",
      "[0 0 0 1]\n",
      "[0 1 1 0]\n",
      "[0 0 0 0]\n",
      "Best bomb center: (2, 1)\n",
      "Maximum islands destroyed: 3\n",
      "Coordinates of destroyed islands: [(1, 1), (2, 1), (3, 2)]\n"
     ]
    }
   ],
   "source": [
    "import numpy as np\n",
    "\n",
    "size=input(\"Enter the grid size\")\n",
    "gridsize=int(size)\n",
    "map_grid = np.random.randint(0, 2, (gridsize, gridsize))\n",
    "map_grid = np.flipud(map_grid) \n",
    "for row in reversed(map_grid):   \n",
    "    print(row)\n",
    "\n",
    "n = len(map_grid)  \n",
    "m = 3              \n",
    "\n",
    "max_damage = 0             \n",
    "best_center = (0,0)        \n",
    "destroyed_islands = []     \n",
    "\n",
    "\n",
    "for y in range(n):         \n",
    "    for x in range(n):     \n",
    "        \n",
    "        \n",
    "        if x - m//2 < 0 or x + m//2 >= n:\n",
    "            continue        \n",
    "        if y - m//2 < 0 or y + m//2 >= n:\n",
    "            continue        \n",
    "        \n",
    "        if map_grid[y][x] == 1:\n",
    "            \n",
    "            damage = 0             \n",
    "            temp_islands = []      \n",
    "            \n",
    "            \n",
    "            for i in range(y - m//2, y + m//2 + 1):\n",
    "                for j in range(x - m//2, x + m//2 + 1):\n",
    "                    if map_grid[i][j] == 1:\n",
    "                        damage += 1\n",
    "                        temp_islands.append((j, i))  \n",
    "            \n",
    "        \n",
    "            if damage > max_damage:\n",
    "                max_damage = damage\n",
    "                best_center = (x, y)\n",
    "                destroyed_islands = temp_islands\n",
    "\n",
    "\n",
    "print(\"Best bomb center:\", best_center)\n",
    "print(\"Maximum islands destroyed:\", max_damage)\n",
    "print(\"Coordinates of destroyed islands:\", destroyed_islands)\n"
   ]
  },
  {
   "cell_type": "code",
   "execution_count": null,
   "id": "5bcff73b-d7a9-4529-a383-66f9e1b914f3",
   "metadata": {},
   "outputs": [],
   "source": []
  }
 ],
 "metadata": {
  "kernelspec": {
   "display_name": "Python [conda env:base] *",
   "language": "python",
   "name": "conda-base-py"
  },
  "language_info": {
   "codemirror_mode": {
    "name": "ipython",
    "version": 3
   },
   "file_extension": ".py",
   "mimetype": "text/x-python",
   "name": "python",
   "nbconvert_exporter": "python",
   "pygments_lexer": "ipython3",
   "version": "3.13.5"
  }
 },
 "nbformat": 4,
 "nbformat_minor": 5
}
