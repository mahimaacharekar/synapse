{
 "cells": [
  {
   "cell_type": "code",
   "execution_count": 5,
   "id": "4cd83f79-4ce7-44dd-8fa0-6e76c4df27d2",
   "metadata": {},
   "outputs": [
    {
     "name": "stdout",
     "output_type": "stream",
     "text": [
      "W\n",
      "O\n",
      "H\n",
      "F\n",
      "V\n",
      "U\n",
      "V\n",
      "X\n",
      "M\n",
      "N\n",
      "H\n",
      "K\n",
      "N\n",
      "K\n",
      "G\n",
      "Q\n",
      "H\n",
      "B\n",
      "H\n",
      "O\n",
      "H\n",
      "V\n",
      "O\n",
      "M\n",
      "A\n",
      "Z\n",
      "L\n",
      "U\n",
      "A\n",
      "L\n",
      "T\n",
      "Z\n",
      "K\n",
      "J\n",
      "O\n",
      "S\n",
      "36\n"
     ]
    }
   ],
   "source": [
    "import random\n",
    "alphabet=['A', 'B', 'C', 'D', 'E', 'F', 'G', 'H', 'I', 'J', 'K', 'L', 'M', 'N', 'O', 'P', 'Q', 'R', 'S', 'T', 'U', 'V', 'W', 'X', 'Y', 'Z']\n",
    "runes=\"LUMOS\"\n",
    "found_L=False\n",
    "found_U=False\n",
    "found_M=False\n",
    "found_O=False\n",
    "found_S=False\n",
    "\n",
    "for i in range(100):\n",
    "    rune = random.choice(alphabet)   \n",
    "    print(rune)\n",
    "      \n",
    "    if rune==\"L\":\n",
    "        found_L=True\n",
    "\n",
    "    if rune==\"U\":\n",
    "        found_U=True\n",
    "\n",
    "    if rune==\"M\":\n",
    "        found_M=True\n",
    "\n",
    "    if rune==\"O\":\n",
    "        found_O=True\n",
    "\n",
    "    if rune==\"S\":\n",
    "        found_S=True\n",
    "\n",
    "    if found_L and found_U and found_M and found_O and found_S:\n",
    "        print(i+1)\n",
    "        break\n",
    "else:\n",
    "        print(-1)\n",
    "\n"
   ]
  },
  {
   "cell_type": "code",
   "execution_count": null,
   "id": "a804825c-19e1-42d4-a2f1-9e5b6f64d3a3",
   "metadata": {},
   "outputs": [],
   "source": []
  }
 ],
 "metadata": {
  "kernelspec": {
   "display_name": "Python [conda env:base] *",
   "language": "python",
   "name": "conda-base-py"
  },
  "language_info": {
   "codemirror_mode": {
    "name": "ipython",
    "version": 3
   },
   "file_extension": ".py",
   "mimetype": "text/x-python",
   "name": "python",
   "nbconvert_exporter": "python",
   "pygments_lexer": "ipython3",
   "version": "3.13.5"
  }
 },
 "nbformat": 4,
 "nbformat_minor": 5
}
