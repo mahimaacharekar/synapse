{
 "cells": [
  {
   "cell_type": "markdown",
   "id": "219ab7a9",
   "metadata": {
    "papermill": {
     "duration": 0.007497,
     "end_time": "2025-08-31T18:45:20.401019",
     "exception": false,
     "start_time": "2025-08-31T18:45:20.393522",
     "status": "completed"
    },
    "tags": []
   },
   "source": [
    "# Instructions \n",
    "\n",
    "- Make sure you’re logged into Kaggle.\n",
    "- Load the **Video Game Sales dataset** (CSV file is provided in the Kaggle input section).  \n",
    "- Carefully read through each step and run the cells in order.  \n",
    "- Do **not** skip steps — each builds on the previous one.  \n",
    "- Add your own observations wherever possible, especially when exploring graphs.  \n",
    "- Remember: This is practice for real-world data preprocessing + EDA, so try to think *why* each step is done, not just *how*.  \n",
    "- At the end, feel free to explore further — add more plots, groupbys, or questions you want to answer!  \n",
    "\n"
   ]
  },
  {
   "cell_type": "markdown",
   "id": "835557dc",
   "metadata": {
    "papermill": {
     "duration": 0.006657,
     "end_time": "2025-08-31T18:45:20.414448",
     "exception": false,
     "start_time": "2025-08-31T18:45:20.407791",
     "status": "completed"
    },
    "tags": []
   },
   "source": [
    "Welcome to your next checkpoint on the Synapse road!\n",
    "Today we’re diving into the Video Game Sales dataset to practice real-world data preprocessing + EDA. Think of this like prepping ingredients before cooking — we’ll clean, slice, and plate the data so insights pop 🍽️"
   ]
  },
  {
   "cell_type": "markdown",
   "id": "2e31f9d0",
   "metadata": {
    "papermill": {
     "duration": 0.00614,
     "end_time": "2025-08-31T18:45:20.427081",
     "exception": false,
     "start_time": "2025-08-31T18:45:20.420941",
     "status": "completed"
    },
    "tags": []
   },
   "source": [
    "We’ll be using pandas, numpy, matplotlib, and seaborn for this task.\n",
    "Run the following cell to import them"
   ]
  },
  {
   "cell_type": "code",
   "execution_count": 1,
   "id": "44c4577b",
   "metadata": {
    "execution": {
     "iopub.execute_input": "2025-08-31T18:45:20.442115Z",
     "iopub.status.busy": "2025-08-31T18:45:20.441704Z",
     "iopub.status.idle": "2025-08-31T18:45:24.354622Z",
     "shell.execute_reply": "2025-08-31T18:45:24.353807Z"
    },
    "papermill": {
     "duration": 3.922928,
     "end_time": "2025-08-31T18:45:24.356342",
     "exception": false,
     "start_time": "2025-08-31T18:45:20.433414",
     "status": "completed"
    },
    "tags": []
   },
   "outputs": [],
   "source": [
    "import pandas as pd\n",
    "import numpy as np\n",
    "import matplotlib.pyplot as plt\n",
    "import seaborn as sns"
   ]
  },
  {
   "cell_type": "markdown",
   "id": "ae2beaef",
   "metadata": {
    "papermill": {
     "duration": 0.005997,
     "end_time": "2025-08-31T18:45:24.369307",
     "exception": false,
     "start_time": "2025-08-31T18:45:24.363310",
     "status": "completed"
    },
    "tags": []
   },
   "source": [
    "Alright, now that we’ve got our tools ready, let’s bring in the star of the show — the **Video Game Sales dataset** 🎮  \n",
    "\n",
    "Your task:  \n",
    "- Load the dataset into a pandas DataFrame.  \n",
    "- Take a quick peek at the first few rows using.  \n",
    "- Check the shape of the dataset to see how big this universe is.  \n",
    "\n",
    "Think of this step as unboxing a new console — gotta see what’s inside first!  \n"
   ]
  },
  {
   "cell_type": "code",
   "execution_count": 2,
   "id": "1ca45c3f",
   "metadata": {
    "execution": {
     "iopub.execute_input": "2025-08-31T18:45:24.383673Z",
     "iopub.status.busy": "2025-08-31T18:45:24.383195Z",
     "iopub.status.idle": "2025-08-31T18:45:24.387931Z",
     "shell.execute_reply": "2025-08-31T18:45:24.386956Z"
    },
    "papermill": {
     "duration": 0.013938,
     "end_time": "2025-08-31T18:45:24.389432",
     "exception": false,
     "start_time": "2025-08-31T18:45:24.375494",
     "status": "completed"
    },
    "tags": []
   },
   "outputs": [],
   "source": [
    "import pandas as pd\n",
    "import numpy as np\n",
    "import matplotlib.pyplot as plt\n",
    "import seaborn as sns\n"
   ]
  },
  {
   "cell_type": "code",
   "execution_count": 3,
   "id": "01f8cc85",
   "metadata": {
    "execution": {
     "iopub.execute_input": "2025-08-31T18:45:24.404014Z",
     "iopub.status.busy": "2025-08-31T18:45:24.403619Z",
     "iopub.status.idle": "2025-08-31T18:45:24.481756Z",
     "shell.execute_reply": "2025-08-31T18:45:24.480778Z"
    },
    "papermill": {
     "duration": 0.087522,
     "end_time": "2025-08-31T18:45:24.483467",
     "exception": false,
     "start_time": "2025-08-31T18:45:24.395945",
     "status": "completed"
    },
    "tags": []
   },
   "outputs": [],
   "source": [
    "df = pd.read_csv(\"/kaggle/input/videogamesales/vgsales.csv\")\n"
   ]
  },
  {
   "cell_type": "code",
   "execution_count": 4,
   "id": "6625ea03",
   "metadata": {
    "execution": {
     "iopub.execute_input": "2025-08-31T18:45:24.497438Z",
     "iopub.status.busy": "2025-08-31T18:45:24.497080Z",
     "iopub.status.idle": "2025-08-31T18:45:24.528688Z",
     "shell.execute_reply": "2025-08-31T18:45:24.527724Z"
    },
    "papermill": {
     "duration": 0.040651,
     "end_time": "2025-08-31T18:45:24.530447",
     "exception": false,
     "start_time": "2025-08-31T18:45:24.489796",
     "status": "completed"
    },
    "tags": []
   },
   "outputs": [
    {
     "data": {
      "text/html": [
       "<div>\n",
       "<style scoped>\n",
       "    .dataframe tbody tr th:only-of-type {\n",
       "        vertical-align: middle;\n",
       "    }\n",
       "\n",
       "    .dataframe tbody tr th {\n",
       "        vertical-align: top;\n",
       "    }\n",
       "\n",
       "    .dataframe thead th {\n",
       "        text-align: right;\n",
       "    }\n",
       "</style>\n",
       "<table border=\"1\" class=\"dataframe\">\n",
       "  <thead>\n",
       "    <tr style=\"text-align: right;\">\n",
       "      <th></th>\n",
       "      <th>Rank</th>\n",
       "      <th>Name</th>\n",
       "      <th>Platform</th>\n",
       "      <th>Year</th>\n",
       "      <th>Genre</th>\n",
       "      <th>Publisher</th>\n",
       "      <th>NA_Sales</th>\n",
       "      <th>EU_Sales</th>\n",
       "      <th>JP_Sales</th>\n",
       "      <th>Other_Sales</th>\n",
       "      <th>Global_Sales</th>\n",
       "    </tr>\n",
       "  </thead>\n",
       "  <tbody>\n",
       "    <tr>\n",
       "      <th>0</th>\n",
       "      <td>1</td>\n",
       "      <td>Wii Sports</td>\n",
       "      <td>Wii</td>\n",
       "      <td>2006.0</td>\n",
       "      <td>Sports</td>\n",
       "      <td>Nintendo</td>\n",
       "      <td>41.49</td>\n",
       "      <td>29.02</td>\n",
       "      <td>3.77</td>\n",
       "      <td>8.46</td>\n",
       "      <td>82.74</td>\n",
       "    </tr>\n",
       "    <tr>\n",
       "      <th>1</th>\n",
       "      <td>2</td>\n",
       "      <td>Super Mario Bros.</td>\n",
       "      <td>NES</td>\n",
       "      <td>1985.0</td>\n",
       "      <td>Platform</td>\n",
       "      <td>Nintendo</td>\n",
       "      <td>29.08</td>\n",
       "      <td>3.58</td>\n",
       "      <td>6.81</td>\n",
       "      <td>0.77</td>\n",
       "      <td>40.24</td>\n",
       "    </tr>\n",
       "    <tr>\n",
       "      <th>2</th>\n",
       "      <td>3</td>\n",
       "      <td>Mario Kart Wii</td>\n",
       "      <td>Wii</td>\n",
       "      <td>2008.0</td>\n",
       "      <td>Racing</td>\n",
       "      <td>Nintendo</td>\n",
       "      <td>15.85</td>\n",
       "      <td>12.88</td>\n",
       "      <td>3.79</td>\n",
       "      <td>3.31</td>\n",
       "      <td>35.82</td>\n",
       "    </tr>\n",
       "    <tr>\n",
       "      <th>3</th>\n",
       "      <td>4</td>\n",
       "      <td>Wii Sports Resort</td>\n",
       "      <td>Wii</td>\n",
       "      <td>2009.0</td>\n",
       "      <td>Sports</td>\n",
       "      <td>Nintendo</td>\n",
       "      <td>15.75</td>\n",
       "      <td>11.01</td>\n",
       "      <td>3.28</td>\n",
       "      <td>2.96</td>\n",
       "      <td>33.00</td>\n",
       "    </tr>\n",
       "    <tr>\n",
       "      <th>4</th>\n",
       "      <td>5</td>\n",
       "      <td>Pokemon Red/Pokemon Blue</td>\n",
       "      <td>GB</td>\n",
       "      <td>1996.0</td>\n",
       "      <td>Role-Playing</td>\n",
       "      <td>Nintendo</td>\n",
       "      <td>11.27</td>\n",
       "      <td>8.89</td>\n",
       "      <td>10.22</td>\n",
       "      <td>1.00</td>\n",
       "      <td>31.37</td>\n",
       "    </tr>\n",
       "  </tbody>\n",
       "</table>\n",
       "</div>"
      ],
      "text/plain": [
       "   Rank                      Name Platform    Year         Genre Publisher  \\\n",
       "0     1                Wii Sports      Wii  2006.0        Sports  Nintendo   \n",
       "1     2         Super Mario Bros.      NES  1985.0      Platform  Nintendo   \n",
       "2     3            Mario Kart Wii      Wii  2008.0        Racing  Nintendo   \n",
       "3     4         Wii Sports Resort      Wii  2009.0        Sports  Nintendo   \n",
       "4     5  Pokemon Red/Pokemon Blue       GB  1996.0  Role-Playing  Nintendo   \n",
       "\n",
       "   NA_Sales  EU_Sales  JP_Sales  Other_Sales  Global_Sales  \n",
       "0     41.49     29.02      3.77         8.46         82.74  \n",
       "1     29.08      3.58      6.81         0.77         40.24  \n",
       "2     15.85     12.88      3.79         3.31         35.82  \n",
       "3     15.75     11.01      3.28         2.96         33.00  \n",
       "4     11.27      8.89     10.22         1.00         31.37  "
      ]
     },
     "execution_count": 4,
     "metadata": {},
     "output_type": "execute_result"
    }
   ],
   "source": [
    "df.head()"
   ]
  },
  {
   "cell_type": "code",
   "execution_count": 5,
   "id": "3cc50b91",
   "metadata": {
    "execution": {
     "iopub.execute_input": "2025-08-31T18:45:24.545966Z",
     "iopub.status.busy": "2025-08-31T18:45:24.545570Z",
     "iopub.status.idle": "2025-08-31T18:45:24.551479Z",
     "shell.execute_reply": "2025-08-31T18:45:24.550698Z"
    },
    "papermill": {
     "duration": 0.015793,
     "end_time": "2025-08-31T18:45:24.553135",
     "exception": false,
     "start_time": "2025-08-31T18:45:24.537342",
     "status": "completed"
    },
    "tags": []
   },
   "outputs": [
    {
     "data": {
      "text/plain": [
       "(16598, 11)"
      ]
     },
     "execution_count": 5,
     "metadata": {},
     "output_type": "execute_result"
    }
   ],
   "source": [
    "df.shape"
   ]
  },
  {
   "cell_type": "markdown",
   "id": "4c250669",
   "metadata": {
    "papermill": {
     "duration": 0.006381,
     "end_time": "2025-08-31T18:45:24.566317",
     "exception": false,
     "start_time": "2025-08-31T18:45:24.559936",
     "status": "completed"
    },
    "tags": []
   },
   "source": [
    "### 🕹️ Level 1: Meet the Characters  \n",
    "\n",
    "Now that we’ve unboxed our dataset, let’s get to know the **cast of characters**:  \n",
    "- What kinds of columns do we have? (numeric, object, etc.)  \n",
    "- How many missing values are there?  \n",
    "\n",
    "Your task:  \n",
    "- To get a quick overview of column types + null values.  \n",
    "- To double-check the data types.  \n",
    "\n",
    "This step is like reading the **character bios** before starting a game   \n"
   ]
  },
  {
   "cell_type": "code",
   "execution_count": 6,
   "id": "1aab2641",
   "metadata": {
    "execution": {
     "iopub.execute_input": "2025-08-31T18:45:24.581339Z",
     "iopub.status.busy": "2025-08-31T18:45:24.580236Z",
     "iopub.status.idle": "2025-08-31T18:45:24.607732Z",
     "shell.execute_reply": "2025-08-31T18:45:24.606346Z"
    },
    "papermill": {
     "duration": 0.036591,
     "end_time": "2025-08-31T18:45:24.609453",
     "exception": false,
     "start_time": "2025-08-31T18:45:24.572862",
     "status": "completed"
    },
    "tags": []
   },
   "outputs": [
    {
     "name": "stdout",
     "output_type": "stream",
     "text": [
      "<class 'pandas.core.frame.DataFrame'>\n",
      "RangeIndex: 16598 entries, 0 to 16597\n",
      "Data columns (total 11 columns):\n",
      " #   Column        Non-Null Count  Dtype  \n",
      "---  ------        --------------  -----  \n",
      " 0   Rank          16598 non-null  int64  \n",
      " 1   Name          16598 non-null  object \n",
      " 2   Platform      16598 non-null  object \n",
      " 3   Year          16327 non-null  float64\n",
      " 4   Genre         16598 non-null  object \n",
      " 5   Publisher     16540 non-null  object \n",
      " 6   NA_Sales      16598 non-null  float64\n",
      " 7   EU_Sales      16598 non-null  float64\n",
      " 8   JP_Sales      16598 non-null  float64\n",
      " 9   Other_Sales   16598 non-null  float64\n",
      " 10  Global_Sales  16598 non-null  float64\n",
      "dtypes: float64(6), int64(1), object(4)\n",
      "memory usage: 1.4+ MB\n"
     ]
    }
   ],
   "source": [
    "df.info()"
   ]
  },
  {
   "cell_type": "code",
   "execution_count": 7,
   "id": "54a0cb25",
   "metadata": {
    "execution": {
     "iopub.execute_input": "2025-08-31T18:45:24.624354Z",
     "iopub.status.busy": "2025-08-31T18:45:24.624056Z",
     "iopub.status.idle": "2025-08-31T18:45:24.635884Z",
     "shell.execute_reply": "2025-08-31T18:45:24.635061Z"
    },
    "papermill": {
     "duration": 0.021058,
     "end_time": "2025-08-31T18:45:24.637362",
     "exception": false,
     "start_time": "2025-08-31T18:45:24.616304",
     "status": "completed"
    },
    "tags": []
   },
   "outputs": [
    {
     "data": {
      "text/plain": [
       "Rank              0\n",
       "Name              0\n",
       "Platform          0\n",
       "Year            271\n",
       "Genre             0\n",
       "Publisher        58\n",
       "NA_Sales          0\n",
       "EU_Sales          0\n",
       "JP_Sales          0\n",
       "Other_Sales       0\n",
       "Global_Sales      0\n",
       "dtype: int64"
      ]
     },
     "execution_count": 7,
     "metadata": {},
     "output_type": "execute_result"
    }
   ],
   "source": [
    "df.isnull().sum()\n"
   ]
  },
  {
   "cell_type": "markdown",
   "id": "63f1fbe5",
   "metadata": {
    "papermill": {
     "duration": 0.006691,
     "end_time": "2025-08-31T18:45:24.651003",
     "exception": false,
     "start_time": "2025-08-31T18:45:24.644312",
     "status": "completed"
    },
    "tags": []
   },
   "source": [
    "### 🎯 Level 2: Quick Stats Check (Describe the Data)  \n",
    "\n",
    "Every good gamer checks the **stats screen** before playing  \n",
    "Now, let’s do the same for our dataset:  \n",
    "\n",
    "Your task:  \n",
    "- To get summary statistics for numerical columns.  \n",
    "- Notice things like average sales, max values, and distribution hints.  \n",
    "\n",
    "This is like peeking at the **scoreboard** — who’s leading, what’s the high score?   \n"
   ]
  },
  {
   "cell_type": "code",
   "execution_count": 8,
   "id": "6b3fd947",
   "metadata": {
    "execution": {
     "iopub.execute_input": "2025-08-31T18:45:24.666125Z",
     "iopub.status.busy": "2025-08-31T18:45:24.665789Z",
     "iopub.status.idle": "2025-08-31T18:45:24.705106Z",
     "shell.execute_reply": "2025-08-31T18:45:24.703955Z"
    },
    "papermill": {
     "duration": 0.048945,
     "end_time": "2025-08-31T18:45:24.706807",
     "exception": false,
     "start_time": "2025-08-31T18:45:24.657862",
     "status": "completed"
    },
    "tags": []
   },
   "outputs": [
    {
     "data": {
      "text/html": [
       "<div>\n",
       "<style scoped>\n",
       "    .dataframe tbody tr th:only-of-type {\n",
       "        vertical-align: middle;\n",
       "    }\n",
       "\n",
       "    .dataframe tbody tr th {\n",
       "        vertical-align: top;\n",
       "    }\n",
       "\n",
       "    .dataframe thead th {\n",
       "        text-align: right;\n",
       "    }\n",
       "</style>\n",
       "<table border=\"1\" class=\"dataframe\">\n",
       "  <thead>\n",
       "    <tr style=\"text-align: right;\">\n",
       "      <th></th>\n",
       "      <th>Rank</th>\n",
       "      <th>Year</th>\n",
       "      <th>NA_Sales</th>\n",
       "      <th>EU_Sales</th>\n",
       "      <th>JP_Sales</th>\n",
       "      <th>Other_Sales</th>\n",
       "      <th>Global_Sales</th>\n",
       "    </tr>\n",
       "  </thead>\n",
       "  <tbody>\n",
       "    <tr>\n",
       "      <th>count</th>\n",
       "      <td>16598.000000</td>\n",
       "      <td>16327.000000</td>\n",
       "      <td>16598.000000</td>\n",
       "      <td>16598.000000</td>\n",
       "      <td>16598.000000</td>\n",
       "      <td>16598.000000</td>\n",
       "      <td>16598.000000</td>\n",
       "    </tr>\n",
       "    <tr>\n",
       "      <th>mean</th>\n",
       "      <td>8300.605254</td>\n",
       "      <td>2006.406443</td>\n",
       "      <td>0.264667</td>\n",
       "      <td>0.146652</td>\n",
       "      <td>0.077782</td>\n",
       "      <td>0.048063</td>\n",
       "      <td>0.537441</td>\n",
       "    </tr>\n",
       "    <tr>\n",
       "      <th>std</th>\n",
       "      <td>4791.853933</td>\n",
       "      <td>5.828981</td>\n",
       "      <td>0.816683</td>\n",
       "      <td>0.505351</td>\n",
       "      <td>0.309291</td>\n",
       "      <td>0.188588</td>\n",
       "      <td>1.555028</td>\n",
       "    </tr>\n",
       "    <tr>\n",
       "      <th>min</th>\n",
       "      <td>1.000000</td>\n",
       "      <td>1980.000000</td>\n",
       "      <td>0.000000</td>\n",
       "      <td>0.000000</td>\n",
       "      <td>0.000000</td>\n",
       "      <td>0.000000</td>\n",
       "      <td>0.010000</td>\n",
       "    </tr>\n",
       "    <tr>\n",
       "      <th>25%</th>\n",
       "      <td>4151.250000</td>\n",
       "      <td>2003.000000</td>\n",
       "      <td>0.000000</td>\n",
       "      <td>0.000000</td>\n",
       "      <td>0.000000</td>\n",
       "      <td>0.000000</td>\n",
       "      <td>0.060000</td>\n",
       "    </tr>\n",
       "    <tr>\n",
       "      <th>50%</th>\n",
       "      <td>8300.500000</td>\n",
       "      <td>2007.000000</td>\n",
       "      <td>0.080000</td>\n",
       "      <td>0.020000</td>\n",
       "      <td>0.000000</td>\n",
       "      <td>0.010000</td>\n",
       "      <td>0.170000</td>\n",
       "    </tr>\n",
       "    <tr>\n",
       "      <th>75%</th>\n",
       "      <td>12449.750000</td>\n",
       "      <td>2010.000000</td>\n",
       "      <td>0.240000</td>\n",
       "      <td>0.110000</td>\n",
       "      <td>0.040000</td>\n",
       "      <td>0.040000</td>\n",
       "      <td>0.470000</td>\n",
       "    </tr>\n",
       "    <tr>\n",
       "      <th>max</th>\n",
       "      <td>16600.000000</td>\n",
       "      <td>2020.000000</td>\n",
       "      <td>41.490000</td>\n",
       "      <td>29.020000</td>\n",
       "      <td>10.220000</td>\n",
       "      <td>10.570000</td>\n",
       "      <td>82.740000</td>\n",
       "    </tr>\n",
       "  </tbody>\n",
       "</table>\n",
       "</div>"
      ],
      "text/plain": [
       "               Rank          Year      NA_Sales      EU_Sales      JP_Sales  \\\n",
       "count  16598.000000  16327.000000  16598.000000  16598.000000  16598.000000   \n",
       "mean    8300.605254   2006.406443      0.264667      0.146652      0.077782   \n",
       "std     4791.853933      5.828981      0.816683      0.505351      0.309291   \n",
       "min        1.000000   1980.000000      0.000000      0.000000      0.000000   \n",
       "25%     4151.250000   2003.000000      0.000000      0.000000      0.000000   \n",
       "50%     8300.500000   2007.000000      0.080000      0.020000      0.000000   \n",
       "75%    12449.750000   2010.000000      0.240000      0.110000      0.040000   \n",
       "max    16600.000000   2020.000000     41.490000     29.020000     10.220000   \n",
       "\n",
       "        Other_Sales  Global_Sales  \n",
       "count  16598.000000  16598.000000  \n",
       "mean       0.048063      0.537441  \n",
       "std        0.188588      1.555028  \n",
       "min        0.000000      0.010000  \n",
       "25%        0.000000      0.060000  \n",
       "50%        0.010000      0.170000  \n",
       "75%        0.040000      0.470000  \n",
       "max       10.570000     82.740000  "
      ]
     },
     "execution_count": 8,
     "metadata": {},
     "output_type": "execute_result"
    }
   ],
   "source": [
    "df.describe()"
   ]
  },
  {
   "cell_type": "markdown",
   "id": "693d9aca",
   "metadata": {
    "papermill": {
     "duration": 0.006969,
     "end_time": "2025-08-31T18:45:24.720879",
     "exception": false,
     "start_time": "2025-08-31T18:45:24.713910",
     "status": "completed"
    },
    "tags": []
   },
   "source": [
    "## 🧹 Level 3: Clean the Map (Missing Values)\n",
    "\n",
    "Time to sweep the floor before we play.\n",
    "\n",
    "**Your tasks:**\n",
    "- Check how many missing values are in each column.\n",
    "- For this dataset, handle missing values in **`Year`** and **`Publisher`** by removing those rows.\n",
    "- Re-check to confirm there are **no missing values left**.\n",
    "\n",
    "> Tip: Do a quick sanity check after cleaning (row count should drop a bit).\n"
   ]
  },
  {
   "cell_type": "code",
   "execution_count": 9,
   "id": "3b08511f",
   "metadata": {
    "execution": {
     "iopub.execute_input": "2025-08-31T18:45:24.736564Z",
     "iopub.status.busy": "2025-08-31T18:45:24.736169Z",
     "iopub.status.idle": "2025-08-31T18:45:24.749475Z",
     "shell.execute_reply": "2025-08-31T18:45:24.748412Z"
    },
    "papermill": {
     "duration": 0.023435,
     "end_time": "2025-08-31T18:45:24.751229",
     "exception": false,
     "start_time": "2025-08-31T18:45:24.727794",
     "status": "completed"
    },
    "tags": []
   },
   "outputs": [
    {
     "data": {
      "text/plain": [
       "Rank              0\n",
       "Name              0\n",
       "Platform          0\n",
       "Year            271\n",
       "Genre             0\n",
       "Publisher        58\n",
       "NA_Sales          0\n",
       "EU_Sales          0\n",
       "JP_Sales          0\n",
       "Other_Sales       0\n",
       "Global_Sales      0\n",
       "dtype: int64"
      ]
     },
     "execution_count": 9,
     "metadata": {},
     "output_type": "execute_result"
    }
   ],
   "source": [
    "df.isnull().sum()"
   ]
  },
  {
   "cell_type": "code",
   "execution_count": 10,
   "id": "de70383e",
   "metadata": {
    "execution": {
     "iopub.execute_input": "2025-08-31T18:45:24.767331Z",
     "iopub.status.busy": "2025-08-31T18:45:24.766990Z",
     "iopub.status.idle": "2025-08-31T18:45:24.779742Z",
     "shell.execute_reply": "2025-08-31T18:45:24.778270Z"
    },
    "papermill": {
     "duration": 0.023083,
     "end_time": "2025-08-31T18:45:24.781825",
     "exception": false,
     "start_time": "2025-08-31T18:45:24.758742",
     "status": "completed"
    },
    "tags": []
   },
   "outputs": [],
   "source": [
    "df_clean = df.dropna(subset=['Year', 'Publisher'])"
   ]
  },
  {
   "cell_type": "code",
   "execution_count": 11,
   "id": "53f08504",
   "metadata": {
    "execution": {
     "iopub.execute_input": "2025-08-31T18:45:24.797538Z",
     "iopub.status.busy": "2025-08-31T18:45:24.797173Z",
     "iopub.status.idle": "2025-08-31T18:45:24.808547Z",
     "shell.execute_reply": "2025-08-31T18:45:24.807542Z"
    },
    "papermill": {
     "duration": 0.02113,
     "end_time": "2025-08-31T18:45:24.810216",
     "exception": false,
     "start_time": "2025-08-31T18:45:24.789086",
     "status": "completed"
    },
    "tags": []
   },
   "outputs": [
    {
     "data": {
      "text/plain": [
       "Rank            0\n",
       "Name            0\n",
       "Platform        0\n",
       "Year            0\n",
       "Genre           0\n",
       "Publisher       0\n",
       "NA_Sales        0\n",
       "EU_Sales        0\n",
       "JP_Sales        0\n",
       "Other_Sales     0\n",
       "Global_Sales    0\n",
       "dtype: int64"
      ]
     },
     "execution_count": 11,
     "metadata": {},
     "output_type": "execute_result"
    }
   ],
   "source": [
    "df_clean.isnull().sum()"
   ]
  },
  {
   "cell_type": "code",
   "execution_count": 12,
   "id": "dcd0b8d4",
   "metadata": {
    "execution": {
     "iopub.execute_input": "2025-08-31T18:45:24.826299Z",
     "iopub.status.busy": "2025-08-31T18:45:24.825991Z",
     "iopub.status.idle": "2025-08-31T18:45:24.831786Z",
     "shell.execute_reply": "2025-08-31T18:45:24.830861Z"
    },
    "papermill": {
     "duration": 0.015466,
     "end_time": "2025-08-31T18:45:24.833284",
     "exception": false,
     "start_time": "2025-08-31T18:45:24.817818",
     "status": "completed"
    },
    "tags": []
   },
   "outputs": [
    {
     "name": "stdout",
     "output_type": "stream",
     "text": [
      "Original rows: 16598\n",
      "Cleaned rows: 16291\n"
     ]
    }
   ],
   "source": [
    "print(\"Original rows:\", len(df))\n",
    "print(\"Cleaned rows:\", len(df_clean))"
   ]
  },
  {
   "cell_type": "markdown",
   "id": "68d462b0",
   "metadata": {
    "papermill": {
     "duration": 0.006881,
     "end_time": "2025-08-31T18:45:24.847623",
     "exception": false,
     "start_time": "2025-08-31T18:45:24.840742",
     "status": "completed"
    },
    "tags": []
   },
   "source": [
    "## 🔢 Level 4: Patch the `Year` Column (Data Types)\n",
    "\n",
    "`Year` often shows up as a float (e.g., `2008.0`) because of missing values earlier.\n",
    "\n",
    "**Your tasks:**\n",
    "- Convert **`Year`** to **integer**.\n",
    "- Re-run a quick `info` to confirm the dtype change.\n",
    "\n",
    "> If conversion fails, revisit Level 3 — some NaNs may still be lurking.\n"
   ]
  },
  {
   "cell_type": "code",
   "execution_count": 13,
   "id": "e2351822",
   "metadata": {
    "execution": {
     "iopub.execute_input": "2025-08-31T18:45:24.863982Z",
     "iopub.status.busy": "2025-08-31T18:45:24.863621Z",
     "iopub.status.idle": "2025-08-31T18:45:24.878895Z",
     "shell.execute_reply": "2025-08-31T18:45:24.877733Z"
    },
    "papermill": {
     "duration": 0.02525,
     "end_time": "2025-08-31T18:45:24.880488",
     "exception": false,
     "start_time": "2025-08-31T18:45:24.855238",
     "status": "completed"
    },
    "tags": []
   },
   "outputs": [
    {
     "name": "stdout",
     "output_type": "stream",
     "text": [
      "<class 'pandas.core.frame.DataFrame'>\n",
      "Index: 16291 entries, 0 to 16597\n",
      "Data columns (total 11 columns):\n",
      " #   Column        Non-Null Count  Dtype  \n",
      "---  ------        --------------  -----  \n",
      " 0   Rank          16291 non-null  int64  \n",
      " 1   Name          16291 non-null  object \n",
      " 2   Platform      16291 non-null  object \n",
      " 3   Year          16291 non-null  float64\n",
      " 4   Genre         16291 non-null  object \n",
      " 5   Publisher     16291 non-null  object \n",
      " 6   NA_Sales      16291 non-null  float64\n",
      " 7   EU_Sales      16291 non-null  float64\n",
      " 8   JP_Sales      16291 non-null  float64\n",
      " 9   Other_Sales   16291 non-null  float64\n",
      " 10  Global_Sales  16291 non-null  float64\n",
      "dtypes: float64(6), int64(1), object(4)\n",
      "memory usage: 1.5+ MB\n"
     ]
    }
   ],
   "source": [
    "df_clean.info()"
   ]
  },
  {
   "cell_type": "code",
   "execution_count": 14,
   "id": "73040afb",
   "metadata": {
    "execution": {
     "iopub.execute_input": "2025-08-31T18:45:24.897517Z",
     "iopub.status.busy": "2025-08-31T18:45:24.896240Z",
     "iopub.status.idle": "2025-08-31T18:45:24.907238Z",
     "shell.execute_reply": "2025-08-31T18:45:24.906206Z"
    },
    "papermill": {
     "duration": 0.021102,
     "end_time": "2025-08-31T18:45:24.909074",
     "exception": false,
     "start_time": "2025-08-31T18:45:24.887972",
     "status": "completed"
    },
    "tags": []
   },
   "outputs": [],
   "source": [
    "df_clean = df.dropna(subset=['Year', 'Publisher']).copy()\n"
   ]
  },
  {
   "cell_type": "code",
   "execution_count": 15,
   "id": "4e4e291f",
   "metadata": {
    "execution": {
     "iopub.execute_input": "2025-08-31T18:45:24.925586Z",
     "iopub.status.busy": "2025-08-31T18:45:24.925224Z",
     "iopub.status.idle": "2025-08-31T18:45:24.940447Z",
     "shell.execute_reply": "2025-08-31T18:45:24.939398Z"
    },
    "papermill": {
     "duration": 0.02501,
     "end_time": "2025-08-31T18:45:24.941989",
     "exception": false,
     "start_time": "2025-08-31T18:45:24.916979",
     "status": "completed"
    },
    "tags": []
   },
   "outputs": [
    {
     "name": "stdout",
     "output_type": "stream",
     "text": [
      "<class 'pandas.core.frame.DataFrame'>\n",
      "Index: 16291 entries, 0 to 16597\n",
      "Data columns (total 11 columns):\n",
      " #   Column        Non-Null Count  Dtype  \n",
      "---  ------        --------------  -----  \n",
      " 0   Rank          16291 non-null  int64  \n",
      " 1   Name          16291 non-null  object \n",
      " 2   Platform      16291 non-null  object \n",
      " 3   Year          16291 non-null  float64\n",
      " 4   Genre         16291 non-null  object \n",
      " 5   Publisher     16291 non-null  object \n",
      " 6   NA_Sales      16291 non-null  float64\n",
      " 7   EU_Sales      16291 non-null  float64\n",
      " 8   JP_Sales      16291 non-null  float64\n",
      " 9   Other_Sales   16291 non-null  float64\n",
      " 10  Global_Sales  16291 non-null  float64\n",
      "dtypes: float64(6), int64(1), object(4)\n",
      "memory usage: 1.5+ MB\n"
     ]
    }
   ],
   "source": [
    "df_clean.info()"
   ]
  },
  {
   "cell_type": "markdown",
   "id": "3acdec27",
   "metadata": {
    "papermill": {
     "duration": 0.00705,
     "end_time": "2025-08-31T18:45:24.956539",
     "exception": false,
     "start_time": "2025-08-31T18:45:24.949489",
     "status": "completed"
    },
    "tags": []
   },
   "source": [
    "\n",
    "## 🎮 Level 5: Spotting the Legends  \n",
    "Now that we’ve explored platforms and genres, let’s look at the **all-time best sellers**.  \n",
    "Your task:  \n",
    "\n",
    "List the **Top 5 best-selling video games**.  \n",
    "We’ll display their **Name, Platform, Genre, and Global Sales**.  \n",
    "\n",
    "Think of this as the **Hall of Fame of Video Games** \n",
    "\n",
    "\n"
   ]
  },
  {
   "cell_type": "code",
   "execution_count": 16,
   "id": "a53da0c1",
   "metadata": {
    "execution": {
     "iopub.execute_input": "2025-08-31T18:45:24.972115Z",
     "iopub.status.busy": "2025-08-31T18:45:24.971785Z",
     "iopub.status.idle": "2025-08-31T18:45:24.979067Z",
     "shell.execute_reply": "2025-08-31T18:45:24.978118Z"
    },
    "papermill": {
     "duration": 0.017275,
     "end_time": "2025-08-31T18:45:24.980967",
     "exception": false,
     "start_time": "2025-08-31T18:45:24.963692",
     "status": "completed"
    },
    "tags": []
   },
   "outputs": [],
   "source": [
    "top_games = df_clean.sort_values(by='Global_Sales', ascending=False)"
   ]
  },
  {
   "cell_type": "code",
   "execution_count": 17,
   "id": "af15c4d9",
   "metadata": {
    "execution": {
     "iopub.execute_input": "2025-08-31T18:45:24.997473Z",
     "iopub.status.busy": "2025-08-31T18:45:24.997074Z",
     "iopub.status.idle": "2025-08-31T18:45:25.010076Z",
     "shell.execute_reply": "2025-08-31T18:45:25.009053Z"
    },
    "papermill": {
     "duration": 0.023073,
     "end_time": "2025-08-31T18:45:25.011774",
     "exception": false,
     "start_time": "2025-08-31T18:45:24.988701",
     "status": "completed"
    },
    "tags": []
   },
   "outputs": [
    {
     "data": {
      "text/html": [
       "<div>\n",
       "<style scoped>\n",
       "    .dataframe tbody tr th:only-of-type {\n",
       "        vertical-align: middle;\n",
       "    }\n",
       "\n",
       "    .dataframe tbody tr th {\n",
       "        vertical-align: top;\n",
       "    }\n",
       "\n",
       "    .dataframe thead th {\n",
       "        text-align: right;\n",
       "    }\n",
       "</style>\n",
       "<table border=\"1\" class=\"dataframe\">\n",
       "  <thead>\n",
       "    <tr style=\"text-align: right;\">\n",
       "      <th></th>\n",
       "      <th>Name</th>\n",
       "      <th>Platform</th>\n",
       "      <th>Genre</th>\n",
       "      <th>Global_Sales</th>\n",
       "    </tr>\n",
       "  </thead>\n",
       "  <tbody>\n",
       "    <tr>\n",
       "      <th>0</th>\n",
       "      <td>Wii Sports</td>\n",
       "      <td>Wii</td>\n",
       "      <td>Sports</td>\n",
       "      <td>82.74</td>\n",
       "    </tr>\n",
       "    <tr>\n",
       "      <th>1</th>\n",
       "      <td>Super Mario Bros.</td>\n",
       "      <td>NES</td>\n",
       "      <td>Platform</td>\n",
       "      <td>40.24</td>\n",
       "    </tr>\n",
       "    <tr>\n",
       "      <th>2</th>\n",
       "      <td>Mario Kart Wii</td>\n",
       "      <td>Wii</td>\n",
       "      <td>Racing</td>\n",
       "      <td>35.82</td>\n",
       "    </tr>\n",
       "    <tr>\n",
       "      <th>3</th>\n",
       "      <td>Wii Sports Resort</td>\n",
       "      <td>Wii</td>\n",
       "      <td>Sports</td>\n",
       "      <td>33.00</td>\n",
       "    </tr>\n",
       "    <tr>\n",
       "      <th>4</th>\n",
       "      <td>Pokemon Red/Pokemon Blue</td>\n",
       "      <td>GB</td>\n",
       "      <td>Role-Playing</td>\n",
       "      <td>31.37</td>\n",
       "    </tr>\n",
       "  </tbody>\n",
       "</table>\n",
       "</div>"
      ],
      "text/plain": [
       "                       Name Platform         Genre  Global_Sales\n",
       "0                Wii Sports      Wii        Sports         82.74\n",
       "1         Super Mario Bros.      NES      Platform         40.24\n",
       "2            Mario Kart Wii      Wii        Racing         35.82\n",
       "3         Wii Sports Resort      Wii        Sports         33.00\n",
       "4  Pokemon Red/Pokemon Blue       GB  Role-Playing         31.37"
      ]
     },
     "execution_count": 17,
     "metadata": {},
     "output_type": "execute_result"
    }
   ],
   "source": [
    "top_games[['Name', 'Platform', 'Genre', 'Global_Sales']].head(5)"
   ]
  },
  {
   "cell_type": "markdown",
   "id": "8f03358e",
   "metadata": {
    "papermill": {
     "duration": 0.076965,
     "end_time": "2025-08-31T18:45:25.096525",
     "exception": false,
     "start_time": "2025-08-31T18:45:25.019560",
     "status": "completed"
    },
    "tags": []
   },
   "source": [
    "\n",
    "## 🎮 Level 6: Which Console Ruled the Game?  \n",
    "Every console/platform has a legacy — but which one released the **most number of games**?  \n",
    "\n",
    "Count the number of games released on each platform.  \n",
    "Create a **bar chart** to visualize it.  \n",
    "Finally, answer: **Which platform has the highest number of releases?** \n",
    "\n",
    "  \n"
   ]
  },
  {
   "cell_type": "code",
   "execution_count": 18,
   "id": "f779f040",
   "metadata": {
    "execution": {
     "iopub.execute_input": "2025-08-31T18:45:25.113977Z",
     "iopub.status.busy": "2025-08-31T18:45:25.113620Z",
     "iopub.status.idle": "2025-08-31T18:45:25.123035Z",
     "shell.execute_reply": "2025-08-31T18:45:25.121964Z"
    },
    "papermill": {
     "duration": 0.020288,
     "end_time": "2025-08-31T18:45:25.125091",
     "exception": false,
     "start_time": "2025-08-31T18:45:25.104803",
     "status": "completed"
    },
    "tags": []
   },
   "outputs": [
    {
     "data": {
      "text/plain": [
       "Platform\n",
       "DS      2131\n",
       "PS2     2127\n",
       "PS3     1304\n",
       "Wii     1290\n",
       "X360    1234\n",
       "PSP     1197\n",
       "PS      1189\n",
       "PC       938\n",
       "XB       803\n",
       "GBA      786\n",
       "GC       542\n",
       "3DS      499\n",
       "PSV      410\n",
       "PS4      336\n",
       "N64      316\n",
       "SNES     239\n",
       "XOne     213\n",
       "SAT      173\n",
       "WiiU     143\n",
       "2600     116\n",
       "NES       98\n",
       "GB        97\n",
       "DC        52\n",
       "GEN       27\n",
       "NG        12\n",
       "SCD        6\n",
       "WS         6\n",
       "3DO        3\n",
       "TG16       2\n",
       "GG         1\n",
       "PCFX       1\n",
       "Name: count, dtype: int64"
      ]
     },
     "execution_count": 18,
     "metadata": {},
     "output_type": "execute_result"
    }
   ],
   "source": [
    "platform_counts = df_clean['Platform'].value_counts()\n",
    "platform_counts"
   ]
  },
  {
   "cell_type": "code",
   "execution_count": 19,
   "id": "336f1465",
   "metadata": {
    "execution": {
     "iopub.execute_input": "2025-08-31T18:45:25.142542Z",
     "iopub.status.busy": "2025-08-31T18:45:25.142151Z",
     "iopub.status.idle": "2025-08-31T18:45:25.713411Z",
     "shell.execute_reply": "2025-08-31T18:45:25.712427Z"
    },
    "papermill": {
     "duration": 0.581868,
     "end_time": "2025-08-31T18:45:25.715089",
     "exception": false,
     "start_time": "2025-08-31T18:45:25.133221",
     "status": "completed"
    },
    "tags": []
   },
   "outputs": [
    {
     "data": {
      "image/png": "[encoded data removed]",
      "text/plain": [
       "<Figure size 1200x600 with 1 Axes>"
      ]
     },
     "metadata": {},
     "output_type": "display_data"
    }
   ],
   "source": [
    "import matplotlib.pyplot as plt\n",
    "import seaborn as sns\n",
    "\n",
    "plt.figure(figsize=(12,6))\n",
    "\n",
    "\n",
    "sns.barplot(x=platform_counts.index, y=platform_counts.values, palette=\"viridis\")\n",
    "\n",
    "\n",
    "plt.title(\"Number of Games Released per Platform\")\n",
    "plt.xlabel(\"Platform\")\n",
    "plt.ylabel(\"Number of Games\")\n",
    "plt.xticks(rotation=45)\n",
    "plt.show()\n"
   ]
  },
  {
   "cell_type": "code",
   "execution_count": 20,
   "id": "f71ce48b",
   "metadata": {
    "execution": {
     "iopub.execute_input": "2025-08-31T18:45:25.735745Z",
     "iopub.status.busy": "2025-08-31T18:45:25.735410Z",
     "iopub.status.idle": "2025-08-31T18:45:25.740849Z",
     "shell.execute_reply": "2025-08-31T18:45:25.739937Z"
    },
    "papermill": {
     "duration": 0.01788,
     "end_time": "2025-08-31T18:45:25.742365",
     "exception": false,
     "start_time": "2025-08-31T18:45:25.724485",
     "status": "completed"
    },
    "tags": []
   },
   "outputs": [
    {
     "name": "stdout",
     "output_type": "stream",
     "text": [
      "The platform with the highest number of releases is DS with 2131 games.\n"
     ]
    }
   ],
   "source": [
    "\n",
    "most_releases = platform_counts.idxmax()\n",
    "most_releases_count = platform_counts.max()\n",
    "print(\"The platform with the highest number of releases is {} with {} games.\".format(most_releases, most_releases_count))\n"
   ]
  },
  {
   "cell_type": "markdown",
   "id": "1d304bfe",
   "metadata": {
    "papermill": {
     "duration": 0.008791,
     "end_time": "2025-08-31T18:45:25.759968",
     "exception": false,
     "start_time": "2025-08-31T18:45:25.751177",
     "status": "completed"
    },
    "tags": []
   },
   "source": [
    "\n",
    "## 🏢 Level 7: The Big Bosses (Top Publishers)  \n",
    "Some publishers dominate the industry like final bosses \n",
    "\n",
    "Your task:  \n",
    "- Find the **Top 5 publishers** with the highest **total Global Sales**.  \n",
    "- Show their contribution using a **pie chart** \n",
    "\n",
    "This will help us see who really controlled the gaming world  \n"
   ]
  },
  {
   "cell_type": "code",
   "execution_count": 21,
   "id": "797a0825",
   "metadata": {
    "execution": {
     "iopub.execute_input": "2025-08-31T18:45:25.778974Z",
     "iopub.status.busy": "2025-08-31T18:45:25.778664Z",
     "iopub.status.idle": "2025-08-31T18:45:25.790816Z",
     "shell.execute_reply": "2025-08-31T18:45:25.790015Z"
    },
    "papermill": {
     "duration": 0.023455,
     "end_time": "2025-08-31T18:45:25.792483",
     "exception": false,
     "start_time": "2025-08-31T18:45:25.769028",
     "status": "completed"
    },
    "tags": []
   },
   "outputs": [
    {
     "data": {
      "text/plain": [
       "Publisher\n",
       "Nintendo                       1784.43\n",
       "Electronic Arts                1093.39\n",
       "Activision                      721.41\n",
       "Sony Computer Entertainment     607.28\n",
       "Ubisoft                         473.54\n",
       "Name: Global_Sales, dtype: float64"
      ]
     },
     "execution_count": 21,
     "metadata": {},
     "output_type": "execute_result"
    }
   ],
   "source": [
    "publisher_sales = df_clean.groupby('Publisher')['Global_Sales'].sum()\n",
    "\n",
    "top_publishers = publisher_sales.sort_values(ascending=False).head(5)\n",
    "top_publishers\n"
   ]
  },
  {
   "cell_type": "code",
   "execution_count": 22,
   "id": "8c2cce9a",
   "metadata": {
    "execution": {
     "iopub.execute_input": "2025-08-31T18:45:25.812180Z",
     "iopub.status.busy": "2025-08-31T18:45:25.811134Z",
     "iopub.status.idle": "2025-08-31T18:45:25.971186Z",
     "shell.execute_reply": "2025-08-31T18:45:25.970049Z"
    },
    "papermill": {
     "duration": 0.171642,
     "end_time": "2025-08-31T18:45:25.972850",
     "exception": false,
     "start_time": "2025-08-31T18:45:25.801208",
     "status": "completed"
    },
    "tags": []
   },
   "outputs": [
    {
     "data": {
      "image/png": "[encoded data removed]",
      "text/plain": [
       "<Figure size 900x900 with 1 Axes>"
      ]
     },
     "metadata": {},
     "output_type": "display_data"
    }
   ],
   "source": [
    "import matplotlib.pyplot as plt\n",
    "\n",
    "plt.figure(figsize=(9,9))\n",
    "plt.pie(top_publishers, labels=top_publishers.index, autopct='%1.1f%%', startangle=140, colors=plt.cm.tab20.colors)\n",
    "plt.title(\"Top 5 Publishers by Total Global Sales\")\n",
    "plt.show()\n"
   ]
  },
  {
   "cell_type": "markdown",
   "id": "db92cd13",
   "metadata": {
    "papermill": {
     "duration": 0.010518,
     "end_time": "2025-08-31T18:45:25.994155",
     "exception": false,
     "start_time": "2025-08-31T18:45:25.983637",
     "status": "completed"
    },
    "tags": []
   },
   "source": [
    "\n",
    "## 🌍 Level 8: Genre Champions in Europe  \n",
    "Different genres have their own kings in different regions.  \n",
    "Let’s focus on **Europe (EU Sales)** for now.  \n",
    "\n",
    "Your task:  \n",
    "- For **each Genre**, find the **Publisher** that has the highest **total EU Sales**.  \n",
    "- Print the results as a list (Genre → Top Publisher).  \n",
    "\n",
    "Think of this as awarding the **regional championship belts**  \n",
    "\n"
   ]
  },
  {
   "cell_type": "code",
   "execution_count": 23,
   "id": "c676b767",
   "metadata": {
    "execution": {
     "iopub.execute_input": "2025-08-31T18:45:26.019101Z",
     "iopub.status.busy": "2025-08-31T18:45:26.018749Z",
     "iopub.status.idle": "2025-08-31T18:45:26.030563Z",
     "shell.execute_reply": "2025-08-31T18:45:26.029337Z"
    },
    "papermill": {
     "duration": 0.027254,
     "end_time": "2025-08-31T18:45:26.032701",
     "exception": false,
     "start_time": "2025-08-31T18:45:26.005447",
     "status": "completed"
    },
    "tags": []
   },
   "outputs": [],
   "source": [
    "genre_publisher_sales = df_clean.groupby(['Genre', 'Publisher'])['EU_Sales'].sum()"
   ]
  },
  {
   "cell_type": "code",
   "execution_count": 24,
   "id": "3806d74c",
   "metadata": {
    "execution": {
     "iopub.execute_input": "2025-08-31T18:45:26.056008Z",
     "iopub.status.busy": "2025-08-31T18:45:26.055654Z",
     "iopub.status.idle": "2025-08-31T18:45:26.064433Z",
     "shell.execute_reply": "2025-08-31T18:45:26.063564Z"
    },
    "papermill": {
     "duration": 0.022822,
     "end_time": "2025-08-31T18:45:26.066184",
     "exception": false,
     "start_time": "2025-08-31T18:45:26.043362",
     "status": "completed"
    },
    "tags": []
   },
   "outputs": [],
   "source": [
    "top_publishers_eu = genre_publisher_sales.groupby(level=0).idxmax()"
   ]
  },
  {
   "cell_type": "code",
   "execution_count": 25,
   "id": "20865d91",
   "metadata": {
    "execution": {
     "iopub.execute_input": "2025-08-31T18:45:26.088716Z",
     "iopub.status.busy": "2025-08-31T18:45:26.088354Z",
     "iopub.status.idle": "2025-08-31T18:45:26.094650Z",
     "shell.execute_reply": "2025-08-31T18:45:26.093251Z"
    },
    "papermill": {
     "duration": 0.019491,
     "end_time": "2025-08-31T18:45:26.096356",
     "exception": false,
     "start_time": "2025-08-31T18:45:26.076865",
     "status": "completed"
    },
    "tags": []
   },
   "outputs": [
    {
     "name": "stdout",
     "output_type": "stream",
     "text": [
      "Top Publishers per Genre in Europe (by EU Sales):\n",
      "\n",
      "Action → Take-Two Interactive\n",
      "Adventure → Ubisoft\n",
      "Fighting → THQ\n",
      "Misc → Nintendo\n",
      "Platform → Nintendo\n",
      "Puzzle → Nintendo\n",
      "Racing → Electronic Arts\n",
      "Role-Playing → Nintendo\n",
      "Shooter → Activision\n",
      "Simulation → Electronic Arts\n",
      "Sports → Electronic Arts\n",
      "Strategy → Activision\n"
     ]
    }
   ],
   "source": [
    "print(\"Top Publishers per Genre in Europe (by EU Sales):\\n\")\n",
    "for genre, publisher_tuple in top_publishers_eu.items():\n",
    "    print(\"{} → {}\".format(genre, publisher_tuple[1]))"
   ]
  },
  {
   "cell_type": "markdown",
   "id": "8744c7c8",
   "metadata": {
    "papermill": {
     "duration": 0.010176,
     "end_time": "2025-08-31T18:45:26.117284",
     "exception": false,
     "start_time": "2025-08-31T18:45:26.107108",
     "status": "completed"
    },
    "tags": []
   },
   "source": [
    "\n",
    "## 🎯 Level 9: Nintendo’s Golden Year  \n",
    "Nintendo is one of the biggest names in gaming 🎮  \n",
    "But… which year did Nintendo achieve its **highest total Global Sales**?  \n",
    "\n",
    "Your task:  \n",
    "- Filter the dataset for **Publisher = Nintendo**.  \n",
    "- Group sales by year.  \n",
    "- Find the year with the **highest global sales**.  \n",
    "\n",
    "This is like uncovering the **peak of Nintendo’s power**   \n",
    "\n"
   ]
  },
  {
   "cell_type": "code",
   "execution_count": 26,
   "id": "c7559755",
   "metadata": {
    "execution": {
     "iopub.execute_input": "2025-08-31T18:45:26.140024Z",
     "iopub.status.busy": "2025-08-31T18:45:26.139706Z",
     "iopub.status.idle": "2025-08-31T18:45:26.147430Z",
     "shell.execute_reply": "2025-08-31T18:45:26.146465Z"
    },
    "papermill": {
     "duration": 0.021293,
     "end_time": "2025-08-31T18:45:26.149242",
     "exception": false,
     "start_time": "2025-08-31T18:45:26.127949",
     "status": "completed"
    },
    "tags": []
   },
   "outputs": [],
   "source": [
    "nintendo_df = df_clean[df_clean['Publisher'] == 'Nintendo']"
   ]
  },
  {
   "cell_type": "code",
   "execution_count": 27,
   "id": "eef36d8d",
   "metadata": {
    "execution": {
     "iopub.execute_input": "2025-08-31T18:45:26.171960Z",
     "iopub.status.busy": "2025-08-31T18:45:26.171650Z",
     "iopub.status.idle": "2025-08-31T18:45:26.177611Z",
     "shell.execute_reply": "2025-08-31T18:45:26.176638Z"
    },
    "papermill": {
     "duration": 0.019122,
     "end_time": "2025-08-31T18:45:26.179241",
     "exception": false,
     "start_time": "2025-08-31T18:45:26.160119",
     "status": "completed"
    },
    "tags": []
   },
   "outputs": [],
   "source": [
    "nintendo_yearly_sales = nintendo_df.groupby('Year')['Global_Sales'].sum()\n"
   ]
  },
  {
   "cell_type": "code",
   "execution_count": 28,
   "id": "926f08dc",
   "metadata": {
    "execution": {
     "iopub.execute_input": "2025-08-31T18:45:26.201587Z",
     "iopub.status.busy": "2025-08-31T18:45:26.201246Z",
     "iopub.status.idle": "2025-08-31T18:45:26.206993Z",
     "shell.execute_reply": "2025-08-31T18:45:26.205879Z"
    },
    "papermill": {
     "duration": 0.018568,
     "end_time": "2025-08-31T18:45:26.208443",
     "exception": false,
     "start_time": "2025-08-31T18:45:26.189875",
     "status": "completed"
    },
    "tags": []
   },
   "outputs": [
    {
     "name": "stdout",
     "output_type": "stream",
     "text": [
      "Nintendo's Golden Year: 2006.0 with total Global Sales of 205.61 million units\n"
     ]
    }
   ],
   "source": [
    "golden_year = nintendo_yearly_sales.idxmax()\n",
    "golden_sales = nintendo_yearly_sales.max()\n",
    "\n",
    "print(\"Nintendo's Golden Year: {} with total Global Sales of {:.2f} million units\".format(golden_year, golden_sales))\n"
   ]
  },
  {
   "cell_type": "markdown",
   "id": "e77c78e1",
   "metadata": {
    "papermill": {
     "duration": 0.010274,
     "end_time": "2025-08-31T18:45:26.229815",
     "exception": false,
     "start_time": "2025-08-31T18:45:26.219541",
     "status": "completed"
    },
    "tags": []
   },
   "source": [
    "\n",
    "## 🏟️ Final Boss Arena: The Data Playground  \n",
    "\n",
    "You’ve fought through all the levels ⚔️, now it’s time to explore on your own 🎉  \n",
    "\n",
    "Your final mission:  \n",
    "- Choose **any 2–3 plots** (your choice!) that show **interesting patterns** in the data.   \n",
    "\n",
    "💡 This is your **creative zone** → Think of it as building your own “story” from the dataset.  \n",
    "\n",
    "When you’re done, share your best plot with the team — let’s see who finds the coolest insight!  \n",
    "\n"
   ]
  },
  {
   "cell_type": "code",
   "execution_count": null,
   "id": "caadc3f1",
   "metadata": {
    "papermill": {
     "duration": 0.010982,
     "end_time": "2025-08-31T18:45:26.251639",
     "exception": false,
     "start_time": "2025-08-31T18:45:26.240657",
     "status": "completed"
    },
    "tags": []
   },
   "outputs": [],
   "source": []
  }
 ],
 "metadata": {
  "kaggle": {
   "accelerator": "none",
   "dataSources": [
    {
     "datasetId": 284,
     "sourceId": 618,
     "sourceType": "datasetVersion"
    }
   ],
   "dockerImageVersionId": 31089,
   "isGpuEnabled": false,
   "isInternetEnabled": false,
   "language": "python",
   "sourceType": "notebook"
  },
  "kernelspec": {
   "display_name": "Python 3",
   "language": "python",
   "name": "python3"
  },
  "language_info": {
   "codemirror_mode": {
    "name": "ipython",
    "version": 3
   },
   "file_extension": ".py",
   "mimetype": "text/x-python",
   "name": "python",
   "nbconvert_exporter": "python",
   "pygments_lexer": "ipython3",
   "version": "3.11.13"
  },
  "papermill": {
   "default_parameters": {},
   "duration": 12.417607,
   "end_time": "2025-08-31T18:45:26.984600",
   "environment_variables": {},
   "exception": null,
   "input_path": "__notebook__.ipynb",
   "output_path": "__notebook__.ipynb",
   "parameters": {},
   "start_time": "2025-08-31T18:45:14.566993",
   "version": "2.6.0"
  }
 },
 "nbformat": 4,
 "nbformat_minor": 5
}
