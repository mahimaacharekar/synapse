{
 "cells": [
  {
   "cell_type": "code",
   "execution_count": 1,
   "id": "869620d8-a87d-4ac8-ab9e-c02d3f812262",
   "metadata": {},
   "outputs": [
    {
     "name": "stdin",
     "output_type": "stream",
     "text": [
      "Enter team size (k):  3\n"
     ]
    },
    {
     "name": "stdout",
     "output_type": "stream",
     "text": [
      "\n",
      "Best team of size 3 is: ('Pikachu', 'Charizard', 'Hoopa')\n",
      "They cover 12 unique types.\n"
     ]
    }
   ],
   "source": [
    "from itertools import combinations\n",
    "\n",
    "pokedex = {\n",
    "    \"Pikachu\": (\"Electric\"),\n",
    "    \"Charizard\": (\"Fire\", \"Flying\"),\n",
    "    \"Lapras\": (\"Water\", \"Ice\"),\n",
    "    \"Machamp\": (\"Fighting\",),\n",
    "    \"Mewtwo\": (\"Psychic\", \"Fighting\"),\n",
    "    \"Hoopa\": (\"Psychic\", \"Ghost\", \"Dark\"),\n",
    "    \"Lugia\": (\"Psychic\", \"Flying\", \"Water\"),\n",
    "    \"Squirtle\": (\"Water\",),\n",
    "    \"Gengar\": (\"Ghost\", \"Poison\"),\n",
    "    \"Onix\": (\"Rock\", \"Ground\")\n",
    "}\n",
    "\n",
    "def strongestTeam(pokedex, k):\n",
    "    bestTeam = None\n",
    "    maxTypes = 0\n",
    "\n",
    "\n",
    "    for team in combinations(pokedex.keys(), k):\n",
    "        teamTypes = set()\n",
    "        for pokemon in team:\n",
    "            teamTypes.update(pokedex[pokemon])\n",
    "\n",
    "        \n",
    "        if len(teamTypes) > maxTypes:\n",
    "            maxTypes = len(teamTypes)\n",
    "            bestTeam = team\n",
    "\n",
    "    return bestTeam, maxTypes\n",
    "\n",
    "\n",
    "k = int(input(\"Enter team size (k): \"))\n",
    "\n",
    "team, unique_types = strongestTeam(pokedex, k)\n",
    "\n",
    "print(\"\\nBest team of size\", k, \"is:\", team)\n",
    "print(\"Covers\", unique_types, \"unique types.\")\n"
   ]
  },
  {
   "cell_type": "code",
   "execution_count": null,
   "id": "325288e6-b359-4765-9934-4feeaf12d3af",
   "metadata": {},
   "outputs": [],
   "source": []
  }
 ],
 "metadata": {
  "kernelspec": {
   "display_name": "Python [conda env:base] *",
   "language": "python",
   "name": "conda-base-py"
  },
  "language_info": {
   "codemirror_mode": {
    "name": "ipython",
    "version": 3
   },
   "file_extension": ".py",
   "mimetype": "text/x-python",
   "name": "python",
   "nbconvert_exporter": "python",
   "pygments_lexer": "ipython3",
   "version": "3.13.5"
  }
 },
 "nbformat": 4,
 "nbformat_minor": 5
}
